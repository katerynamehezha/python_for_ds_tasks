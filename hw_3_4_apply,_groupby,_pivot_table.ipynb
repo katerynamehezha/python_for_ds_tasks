{
  "cells": [
    {
      "cell_type": "markdown",
      "metadata": {
        "id": "LwNpAFw_eTF3"
      },
      "source": [
        "#Домашнє завдання до тем apply(), groupby(), pivot_table()"
      ]
    },
    {
      "cell_type": "markdown",
      "metadata": {
        "id": "vP2PEJyq8Yrj"
      },
      "source": [
        "В цьому домашньому завданні продовжуємо працювати з набором даних `supermarket_sales.csv`."
      ]
    },
    {
      "cell_type": "markdown",
      "metadata": {
        "id": "dh9lfpDb8gBL"
      },
      "source": [
        "0. Імпортуйте бібліотеку pandas та зчитайте дані у змінну `df` типу `pandas.DataFrame`."
      ]
    },
    {
      "cell_type": "code",
      "execution_count": 1,
      "metadata": {
        "id": "xBI9gJMK8qnl"
      },
      "outputs": [],
      "source": [
        "import pandas as pd \n",
        "df = pd.read_csv('/Users/kate/Desktop/data/supermarket_sales.csv')"
      ]
    },
    {
      "cell_type": "markdown",
      "metadata": {
        "id": "28638363"
      },
      "source": [
        "1. Дослідимо, який філіал супермаркету ('Branch') є найприбутковішим. Для цього знайдіть сумарний прибуток за кожним філіалом і виявіть, який філіал має найвищий."
      ]
    },
    {
      "cell_type": "code",
      "execution_count": 11,
      "metadata": {
        "ExecuteTime": {
          "end_time": "2022-11-01T17:27:42.023877Z",
          "start_time": "2022-11-01T17:27:42.020277Z"
        },
        "id": "916d731d"
      },
      "outputs": [
        {
          "name": "stdout",
          "output_type": "stream",
          "text": [
            "Branch\n",
            "A    106200.3705\n",
            "B    106197.6720\n",
            "C    110568.7065\n",
            "Name: Total, dtype: float64\n",
            "C має найвищий прибуток 110568.7065\n"
          ]
        }
      ],
      "source": [
        "branch_profit = df.groupby('Branch')['Total'].sum()\n",
        "print(branch_profit)\n",
        "\n",
        "highest_profit_branch = branch_profit.idxmax()\n",
        "highest_profit_amount = branch_profit.max()\n",
        "print(f'{highest_profit_branch} має найвищий прибуток {highest_profit_amount}')\n",
        "\n"
      ]
    },
    {
      "cell_type": "markdown",
      "metadata": {
        "id": "2qL_OddUCZKK"
      },
      "source": [
        "2. В якому місті знайходиться філіал з найвищим прибутком? Може в тому місці нам розмітисти ще один магазин.  \n",
        "Знайдіть відповідь за допомогою функціоналу Pandas."
      ]
    },
    {
      "cell_type": "code",
      "execution_count": 13,
      "metadata": {
        "id": "bBJUc1dWCwdi"
      },
      "outputs": [
        {
          "name": "stdout",
          "output_type": "stream",
          "text": [
            "Naypyitaw\n"
          ]
        }
      ],
      "source": [
        "city_with_highest_profit_branch = df[df['Branch'] == highest_profit_branch]['City'].iloc[0]\n",
        "print(city_with_highest_profit_branch)"
      ]
    },
    {
      "cell_type": "markdown",
      "metadata": {
        "id": "6dec795f"
      },
      "source": [
        "3.1. Створіть зводну таблицю, яка покаже, скільки покупок (інвойсів) було зроблено в кожній з філій (`Branch`) за різними категоріями товарів. Запишіть таблицю в змінну `invoices_by_category` і виведіть змінну на екран.\n",
        "Ця таблиця допоможе проаналізувати, в якій філії купують найбільше товарів кожної з категорій."
      ]
    },
    {
      "cell_type": "code",
      "execution_count": 14,
      "metadata": {
        "id": "N7TfUBf4ZrkX"
      },
      "outputs": [
        {
          "name": "stdout",
          "output_type": "stream",
          "text": [
            "Product line  Electronic accessories  Fashion accessories  Food and beverages  \\\n",
            "Branch                                                                          \n",
            "A                                 60                   51                  58   \n",
            "B                                 55                   62                  50   \n",
            "C                                 55                   65                  66   \n",
            "\n",
            "Product line  Health and beauty  Home and lifestyle  Sports and travel  \n",
            "Branch                                                                  \n",
            "A                            47                  65                 59  \n",
            "B                            53                  50                 62  \n",
            "C                            52                  45                 45  \n"
          ]
        }
      ],
      "source": [
        "invoices_by_category = pd.pivot_table(df,index='Branch',                columns='Product line',values='Invoice ID', aggfunc='count',fill_value=0)\n",
        "print(invoices_by_category)"
      ]
    },
    {
      "cell_type": "markdown",
      "metadata": {
        "ExecuteTime": {
          "end_time": "2022-11-01T16:50:46.961201Z",
          "start_time": "2022-11-01T16:50:46.955894Z"
        },
        "id": "f5bbfa34"
      },
      "source": [
        "Очікуваний результат:"
      ]
    },
    {
      "cell_type": "markdown",
      "metadata": {
        "id": "34b9bcdc"
      },
      "source": [
        "![](https://drive.google.com/uc?export=view&id=1rueAdko6S3UxIHGtojetTxlES-EyM6Yb)"
      ]
    },
    {
      "cell_type": "markdown",
      "metadata": {
        "id": "woygDEA0OSwJ"
      },
      "source": [
        "3.2. Викристовуючи змінну `invoices_by_category` дайте відповідь програмно (тобто значення треба не просто знайти очима, а вивести за допомогою коду), в якому філіалі магазину (`Branch`) найбільше інвойсів із покупкою товарів категорії \"Електронні аксесуари\" (`Electronic accessories`)?\n"
      ]
    },
    {
      "cell_type": "code",
      "execution_count": 15,
      "metadata": {
        "id": "B5x8kTE-Qcq8"
      },
      "outputs": [
        {
          "name": "stdout",
          "output_type": "stream",
          "text": [
            "У філіалі A найбільше інвойсів 60\n"
          ]
        }
      ],
      "source": [
        "max_invoices_branch = invoices_by_category['Electronic accessories'].idxmax()\n",
        "max_invoices_count = invoices_by_category['Electronic accessories'].max()\n",
        "print(f'У філіалі {max_invoices_branch} найбільше інвойсів {max_invoices_count}')"
      ]
    },
    {
      "cell_type": "markdown",
      "metadata": {
        "ExecuteTime": {
          "end_time": "2022-11-01T17:56:02.981755Z",
          "start_time": "2022-11-01T17:56:02.977086Z"
        },
        "id": "d005a2b8"
      },
      "source": [
        "4-6. **Творче завдання на розвиток аналітичного мислення**\n",
        "\n",
        "Крок 1. Сформулюйте ТРИ питання (гіпотези) до наявних даних, які допомогли б вам зрозуміти, які користувачі що, де та коли найбільше/найменше купують, аби дати на основі цих гіпотез рекомендації бізнесу. Звісно питання мають бути не тими, на які ми вже відповіли в завданнях модулю.\n",
        "\n",
        "Крок 2. Знайдіть відповіді на свої питання з допомогою функціоналу pandas.\n",
        "\n",
        "Крок 3. Напишіть, як відповідь на це питання може бути використана для прийняття бізнес рішень.   \n",
        "   \n",
        " Питання можуть бути будь-якої складності, але їх має бути 3. Кожне питання оцінюється як 1 завдання. Без виконання цього завдання ДЗ не приймається. Якщо є питання щодо виконання - пишіть у чат 🙌\n",
        "\n",
        "\n",
        "1 гіпотеза\n",
        "- Які категорії товарів мають найвищі середні продажі по дням тижня? (визначаємо найбільш популярні товари по дням тижня - дозволить оптимізувати рекламні компанії і постачання цих товарів)\n",
        "\n",
        "2 гіпотеза\n",
        "- Який тип клієнтів (член або звичайний) робить більше покупок? - дозволить визначити чи члени витрачають більше або купують частіше - що допоможе в розробці чи оптимізації програм лояльності та маркетингових стратегій \n",
        "\n",
        "3 гіпотеза\n",
        "- Яка категорія товарів має найбільший середній чек? - дозволить визначити, які категорії найбільше прибуткові - щоб зробити упор саме на них \n",
        "\n",
        "\n",
        "\n"
      ]
    },
    {
      "cell_type": "code",
      "execution_count": 33,
      "metadata": {
        "id": "cM3cApWSZuRX"
      },
      "outputs": [
        {
          "name": "stdout",
          "output_type": "stream",
          "text": [
            "Day of Week                 Friday      Monday    Saturday      Sunday  \\\n",
            "Product line                                                             \n",
            "Electronic accessories  285.185559  257.483739  360.902889  320.593875   \n",
            "Fashion accessories     318.491950  356.640083  307.969200  279.187125   \n",
            "Food and beverages      239.917263  300.555818  302.432177  337.539848   \n",
            "Health and beauty       320.423654  324.932192  390.018079  355.238250   \n",
            "Home and lifestyle      286.475875  304.767225  383.666937  377.259094   \n",
            "Sports and travel       424.285370  275.101313  342.991500  318.884562   \n",
            "\n",
            "Day of Week               Thursday     Tuesday   Wednesday  \n",
            "Product line                                                \n",
            "Electronic accessories  345.421125  348.652500  270.272917  \n",
            "Fashion accessories     367.899500  285.510750  243.563625  \n",
            "Food and beverages      339.929625  378.780635  339.045000  \n",
            "Health and beauty       293.814316  295.158259  309.934026  \n",
            "Home and lifestyle      285.647526  350.396932  340.779711  \n",
            "Sports and travel       320.862196  301.208654  326.707500  \n",
            "Customer type\n",
            "Member    501\n",
            "Normal    499\n",
            "Name: count, dtype: int64\n",
            "Customer type\n",
            "Member    164223.444\n",
            "Normal    158743.305\n",
            "Name: Total, dtype: float64\n",
            "Product line\n",
            "Electronic accessories    319.632538\n",
            "Fashion accessories       305.089298\n",
            "Food and beverages        322.671517\n",
            "Health and beauty         323.643020\n",
            "Home and lifestyle        336.636956\n",
            "Sports and travel         332.065220\n",
            "Name: Total, dtype: float64\n"
          ]
        }
      ],
      "source": [
        "#1 гіпотеза\n",
        "df['Date'] = pd.to_datetime(df['Date'])\n",
        "df['Day of Week'] = df['Date'].dt.day_name()\n",
        "\n",
        "avg_sales_per_day_and_product = df.groupby(['Product line', 'Day of Week'])['Total'].mean().unstack()\n",
        "print(avg_sales_per_day_and_product)\n",
        "\n",
        "\n",
        "#2 гіпотеза\n",
        "purchase_count = df['Customer type'].value_counts()\n",
        "print(purchase_count)\n",
        "total_sum_by_type = df.groupby('Customer type')['Total'].sum()\n",
        "print(total_sum_by_type)\n",
        "\n",
        "\n",
        "#3 гіпотеза\n",
        "average_total_by_product_line = df.groupby('Product line')['Total'].mean()\n",
        "print(average_total_by_product_line)\n",
        "\n",
        "\n"
      ]
    }
  ],
  "metadata": {
    "colab": {
      "provenance": []
    },
    "kernelspec": {
      "display_name": "Python 3",
      "name": "python3"
    },
    "language_info": {
      "codemirror_mode": {
        "name": "ipython",
        "version": 3
      },
      "file_extension": ".py",
      "mimetype": "text/x-python",
      "name": "python",
      "nbconvert_exporter": "python",
      "pygments_lexer": "ipython3",
      "version": "3.12.3"
    }
  },
  "nbformat": 4,
  "nbformat_minor": 0
}
