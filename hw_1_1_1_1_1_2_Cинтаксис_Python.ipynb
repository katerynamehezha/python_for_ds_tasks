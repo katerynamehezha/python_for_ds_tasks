{
  "cells": [
    {
      "cell_type": "markdown",
      "metadata": {
        "id": "tvPKWXfD7yRv"
      },
      "source": [
        "#Домашнє завдання до теми \"Синтаксис Python\"\n",
        "\n",
        "В ДЗ першого модулю важливою умовою виконання завдань є те, що ми не імпортуємо жодних бібліотек, а робимо все на чистому Python, використовуючи лише базовий функціонал. Це необхідно аби відпрацювати роботу з базовими типами даних. А використовувати бібліотеки ми ще навчимось далі :)"
      ]
    },
    {
      "cell_type": "markdown",
      "metadata": {
        "id": "xE1KHmUbQVbC"
      },
      "source": [
        "1. Створіть змінну, яка буде зберігати кількість яблук. І надайте їй значення 5. Виведіть значення змінної на екран.\n",
        "2. Виведіть тип змінної, створеної в завданні (1).\n",
        "3. Додайте до значення змінної, створеної в завданні (1) число `12` і виведіть результат на екран з допомогою команди `print()`."
      ]
    },
    {
      "cell_type": "code",
      "execution_count": 6,
      "metadata": {
        "id": "iz5QpN-vQUtN"
      },
      "outputs": [
        {
          "name": "stdout",
          "output_type": "stream",
          "text": [
            "17\n"
          ]
        }
      ],
      "source": [
        "count_of_apples = 5\n",
        "type(count_of_apples)\n",
        "count_of_apples += 12\n",
        "print(count_of_apples)"
      ]
    },
    {
      "cell_type": "markdown",
      "metadata": {
        "id": "yOztaNuqqcMy"
      },
      "source": [
        "4. Запустіть код нижче аби створити дві змінні."
      ]
    },
    {
      "cell_type": "code",
      "execution_count": 7,
      "metadata": {
        "id": "kbXeQSgcqncV"
      },
      "outputs": [],
      "source": [
        "a = 48\n",
        "b = 3"
      ]
    },
    {
      "cell_type": "code",
      "execution_count": 13,
      "metadata": {},
      "outputs": [
        {
          "name": "stdout",
          "output_type": "stream",
          "text": [
            "48\n",
            "3\n"
          ]
        },
        {
          "ename": "NameError",
          "evalue": "name 'c' is not defined",
          "output_type": "error",
          "traceback": [
            "\u001b[0;31m---------------------------------------------------------------------------\u001b[0m",
            "\u001b[0;31mNameError\u001b[0m                                 Traceback (most recent call last)",
            "Cell \u001b[0;32mIn[13], line 7\u001b[0m\n\u001b[1;32m      4\u001b[0m \u001b[38;5;28mprint\u001b[39m(b)\n\u001b[1;32m      5\u001b[0m \u001b[38;5;28mtype\u001b[39m(b)\n\u001b[0;32m----> 7\u001b[0m \u001b[38;5;28mprint\u001b[39m(\u001b[43mc\u001b[49m)\n\u001b[1;32m      8\u001b[0m \u001b[38;5;28mtype\u001b[39m(c)\n",
            "\u001b[0;31mNameError\u001b[0m: name 'c' is not defined"
          ]
        }
      ],
      "source": [
        "print(a)\n",
        "type(a)\n",
        "\n",
        "print(b)\n",
        "type(b)\n",
        "\n",
        "print(c)\n",
        "type(c)\n",
        "#  тут ми ще не визначили с - тому виводится помилка "
      ]
    },
    {
      "cell_type": "code",
      "execution_count": null,
      "metadata": {},
      "outputs": [],
      "source": [
        "c = a + b"
      ]
    },
    {
      "cell_type": "markdown",
      "metadata": {
        "id": "9ojIRMw3qvw8"
      },
      "source": [
        "Створіть нову клітинку нижче цієї з допомогою натискання англійської літери `B`, коли ви НЕ в режимі редагування клітинки. В створеній клітинці створіть змінну `c`, яка буде містити результат ділення `a` на `b`."
      ]
    },
    {
      "cell_type": "markdown",
      "metadata": {
        "id": "XcmIZ24wq4px"
      },
      "source": [
        "Створіть ще одну нову клітинку, тільки тепер вище цієї. Для цього натисніть  англійську літеру `A`, коли ви НЕ в режимі редагування клітинки. Виведіть в новоствореній клітинці значення і тип кожної зі змінних `a`, `b`, `c`. Проаналізуйте результат.\n"
      ]
    },
    {
      "cell_type": "markdown",
      "metadata": {
        "id": "v9rj7B4-sGaG"
      },
      "source": [
        "У Python, коли ви ділите одне ціле число на інше, результат буде автоматично приведений до типу float, якщо він не є цілим числом. Це робиться для того, щоб забезпечити більш точний результат ділення, особливо коли результат міг би бути десятковим числом."
      ]
    },
    {
      "cell_type": "markdown",
      "metadata": {
        "id": "irjcdM8puaEx"
      },
      "source": [
        "5. Перегляньте наступний код, подумайте, що він виведе в результаті, та потім, запустіть його."
      ]
    },
    {
      "cell_type": "code",
      "execution_count": 14,
      "metadata": {
        "id": "KmhCY0ttt8rW"
      },
      "outputs": [
        {
          "data": {
            "text/plain": [
              "38"
            ]
          },
          "execution_count": 14,
          "metadata": {},
          "output_type": "execute_result"
        }
      ],
      "source": [
        "a = 10\n",
        "a = 12\n",
        "a = 15\n",
        "\n",
        "b = 4\n",
        "b = 8\n",
        "b = 14\n",
        "\n",
        "c = 3\n",
        "c = 6\n",
        "c = 9\n",
        "\n",
        "\n",
        "a + b + c"
      ]
    },
    {
      "cell_type": "markdown",
      "metadata": {
        "id": "JrUTyGyQufwq"
      },
      "source": [
        "В клітинці нижче закоментуйте деякі рядки так, аби в результаті виконання останнього рядка коду (`a + b + c`) вивелось `17`.\n",
        "Увага! Рядки треба саме закоментувати, а не видалити.\n",
        "Можна зручно коментувати рядки з допомогою комбінації клавіш `Ctrl + /` (`Command + /` для Mac)"
      ]
    },
    {
      "cell_type": "code",
      "execution_count": 15,
      "metadata": {
        "id": "R4VXgSQKwVoc"
      },
      "outputs": [
        {
          "data": {
            "text/plain": [
              "17"
            ]
          },
          "execution_count": 15,
          "metadata": {},
          "output_type": "execute_result"
        }
      ],
      "source": [
        "a = 10\n",
        "# a = 12\n",
        "# a = 15\n",
        "\n",
        "b = 4\n",
        "# b = 8\n",
        "# b = 14\n",
        "\n",
        "c = 3\n",
        "# c = 6\n",
        "# c = 9\n",
        "\n",
        "\n",
        "a + b + c"
      ]
    }
  ],
  "metadata": {
    "colab": {
      "provenance": []
    },
    "kernelspec": {
      "display_name": "Python 3",
      "name": "python3"
    },
    "language_info": {
      "codemirror_mode": {
        "name": "ipython",
        "version": 3
      },
      "file_extension": ".py",
      "mimetype": "text/x-python",
      "name": "python",
      "nbconvert_exporter": "python",
      "pygments_lexer": "ipython3",
      "version": "3.12.3"
    }
  },
  "nbformat": 4,
  "nbformat_minor": 0
}
