{
  "cells": [
    {
      "cell_type": "markdown",
      "metadata": {
        "id": "QtHabST6Ez_n"
      },
      "source": [
        "# Домашнє завдання до теми \"Functions\""
      ]
    },
    {
      "cell_type": "markdown",
      "metadata": {
        "id": "6pg_NzFq5_kO"
      },
      "source": [
        "1. Напишіть фукнцію `print_message`, яка виводить на екран \"Я програмую на Python💪\" і викличіть цю фукнцію 5 разів (найкраще це зробити в циклі).\n",
        "\n",
        "  **Увага**: фукнція має робити чітко лише зазначений функціонал. Наявність додаткового функціоналу і аргументів, які не потрібні для виконання безпосередньо завдання, буде вважатись помилкою."
      ]
    },
    {
      "cell_type": "code",
      "execution_count": 2,
      "metadata": {
        "id": "RbXsfwI_D8ql"
      },
      "outputs": [
        {
          "name": "stdout",
          "output_type": "stream",
          "text": [
            "Я програмую на Python💪\n",
            "Я програмую на Python💪\n",
            "Я програмую на Python💪\n",
            "Я програмую на Python💪\n",
            "Я програмую на Python💪\n"
          ]
        }
      ],
      "source": [
        "def print_message():\n",
        "    print('Я програмую на Python💪')\n",
        "\n",
        "i = 1\n",
        "while i < 6 :\n",
        "    print_message()\n",
        "    i += 1"
      ]
    },
    {
      "cell_type": "markdown",
      "metadata": {
        "id": "oyRpWRXWBL9N"
      },
      "source": [
        "2. Напишіть функцію `calculation` яка приймає на вхід 4 аргументи типу int - `a`, `b`, `c`, `d` і вертає результат обчислення такої формули: $ (a + b - c) * d $.\n",
        "\n",
        "  Викличте функцію на наступному наборі аргументів і виведіть результат на екран:\n",
        "  ```\n",
        "  a = 16\n",
        "  b = 4\n",
        "  c = 9\n",
        "  d = 3\n",
        "  ```"
      ]
    },
    {
      "cell_type": "code",
      "execution_count": 3,
      "metadata": {
        "id": "Ggt2tx6kD-LS"
      },
      "outputs": [
        {
          "name": "stdout",
          "output_type": "stream",
          "text": [
            "33\n"
          ]
        }
      ],
      "source": [
        "def calculation(a, b, c, d):\n",
        "    return (a + b - c) * d\n",
        "\n",
        "print(calculation(16, 4, 9, 3))"
      ]
    },
    {
      "cell_type": "markdown",
      "metadata": {
        "id": "5hf1CbllDU_t"
      },
      "source": [
        "3. Напишіть функцію, яка додає до аргумента 15 і вертає результат додавання. Викличте функцію, передаючи в якості аргументів кожну з наступних змінних по черзі, і виведіть кожного разу результат на екран.\n",
        "```\n",
        "x = 9\n",
        "y = 14\n",
        "z = -19\n",
        "```"
      ]
    },
    {
      "cell_type": "code",
      "execution_count": 4,
      "metadata": {
        "id": "GvEs_nUtD_Cd"
      },
      "outputs": [
        {
          "name": "stdout",
          "output_type": "stream",
          "text": [
            "24\n",
            "29\n",
            "-4\n"
          ]
        }
      ],
      "source": [
        "def add_int_for_arg(arg):\n",
        "    '''\n",
        "    Add 15 to number.\n",
        "    \n",
        "    :param arg: first argument\n",
        "  \n",
        "    :returns:  argument + 15\n",
        "    '''\n",
        "    return arg + 15\n",
        "\n",
        "print(add_int_for_arg(9))\n",
        "print(add_int_for_arg(14))\n",
        "print(add_int_for_arg(-19))  "
      ]
    },
    {
      "cell_type": "markdown",
      "metadata": {
        "id": "bUuVBhie53uK"
      },
      "source": [
        "4. Напишіть функцію `multipy_numbers`, яка приймає два числа як аргументи і повертає їх добуток.\n",
        "\n",
        "  Викличіть функцію `multipy_numbers` на парах чисел\n",
        "    - 10 і 2\n",
        "    - 7 і 8\n",
        "    - 1024 і 999.\n",
        "  \n",
        "  Виведіть результат кожного виклику.\n",
        "  При виконанні цього завдання з використанням циклу - отримаєте 2х балів за нього :)"
      ]
    },
    {
      "cell_type": "code",
      "execution_count": 5,
      "metadata": {
        "id": "cDqrgZ4YEAKj"
      },
      "outputs": [
        {
          "name": "stdout",
          "output_type": "stream",
          "text": [
            "20\n",
            "56\n",
            "1022976\n"
          ]
        }
      ],
      "source": [
        "def multipy_numbers(a, b):\n",
        "    '''\n",
        "    Multiplies two numbers.\n",
        "    \n",
        "    :param a: first argument\n",
        "    :param b: second argument\n",
        "    \n",
        "    :returns: multipy of arguments \n",
        "    '''\n",
        "    return a * b\n",
        "\n",
        "\n",
        "numberpairs_list = [(10, 2), (7, 8), (1024, 999)]\n",
        "\n",
        "for numpairs in numberpairs_list:\n",
        "    result = multipy_numbers(numpairs[0], numpairs[1])\n",
        "    print(result)"
      ]
    },
    {
      "cell_type": "markdown",
      "metadata": {
        "id": "I03t46k27dDZ"
      },
      "source": [
        "5. **Ділення з перевіркою типів.**  \n",
        "\n",
        "  1. Напишіть функцію `int_division` яка приймає на вхід два аргументи типу `int` - `a` і `b`, і виконує ділення першого аргумента на другий: `a/b`. При цьому функція перед діленням перевіряє, чи другий аргумент не дорівнює 0. Якщо другий аргумент не 0, фукнція вертає результат ділення, інакше - замість виконання ділення, вертає повідомлення на екран \"Не можу виконати ділення на 0\".\n",
        "\n",
        "    Якщо типи, надані у функцію, не `int` - функція виводить повідомлення \"Не працюю з такими типами даних.\".\n",
        "\n",
        "  2. Запустіть функцію на наступних парах чисел:\n",
        "  - 12 і 6\n",
        "  - 20 і 0\n",
        "  - 112 і 10\n",
        "  - 99 і 0\n",
        "  - 11 i 1.1\n",
        "\n",
        "    і виведіть на екран повідомлення \"Результат роботи функції: \" - і далі те, що повернула функція.\n",
        "\n",
        "  3. Дайте відповідь на питання: \"Чому в деяких випадках функція повернула None?\""
      ]
    },
    {
      "cell_type": "code",
      "execution_count": 10,
      "metadata": {
        "id": "1-EQhxrAEEAb"
      },
      "outputs": [
        {
          "name": "stdout",
          "output_type": "stream",
          "text": [
            "Результат роботи функції: 2.0\n",
            "Не можу виконати ділення на 0.\n",
            "Результат роботи функції: None\n",
            "Результат роботи функції: 11.2\n",
            "Не можу виконати ділення на 0.\n",
            "Результат роботи функції: None\n",
            "Не працюю з такими типами даних.\n",
            "Результат роботи функції: None\n"
          ]
        }
      ],
      "source": [
        "def int_division(a: int, b: int):\n",
        "    '''\n",
        "    Divides the first argument by the second argument.\n",
        "    \n",
        "    :param a: the divident \n",
        "    :param b: the divisor\n",
        "    \n",
        "    :returns: float - if the division valid or None - if the division cannot be performed\n",
        "    '''\n",
        "    try:\n",
        "        assert isinstance(a, int), \"Не працюю з такими типами даних.\"\n",
        "        assert isinstance(b, int), \"Не працюю з такими типами даних.\"\n",
        "        assert b != 0, \"Не можу виконати ділення на 0.\"\n",
        "        return a / b\n",
        "    except AssertionError as e:\n",
        "        print(e)\n",
        "    \n",
        "    # Варіант 2 \n",
        "    # if not isinstance(a, int) or not isinstance(b, int):\n",
        "    #     print('Не працюю з такими типами даних.')\n",
        "    # if b == 0:\n",
        "    #     print(\"Не можу виконати ділення на 0.\")\n",
        "    # return a / b \n",
        "\n",
        "pairs_of_numbers = [(12, 6), (20, 0), (112, 10), (99, 0), (11, 1.1)]\n",
        "\n",
        "for pair in pairs_of_numbers:\n",
        "    res = int_division(pair[0], pair[1])\n",
        "    print(f\"Результат роботи функції: {res}\")\n",
        "        \n",
        "\n",
        "# В деяких випадках ф-я повернула None тому що вона за замовчуванням повертає None - в нашому випадку коли не виконувались умови прописані в if \n",
        "          "
      ]
    }
  ],
  "metadata": {
    "colab": {
      "provenance": []
    },
    "kernelspec": {
      "display_name": "Python 3",
      "name": "python3"
    },
    "language_info": {
      "codemirror_mode": {
        "name": "ipython",
        "version": 3
      },
      "file_extension": ".py",
      "mimetype": "text/x-python",
      "name": "python",
      "nbconvert_exporter": "python",
      "pygments_lexer": "ipython3",
      "version": "3.12.3"
    }
  },
  "nbformat": 4,
  "nbformat_minor": 0
}
