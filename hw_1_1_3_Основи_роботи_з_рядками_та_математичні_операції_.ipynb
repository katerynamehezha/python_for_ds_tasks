{
  "cells": [
    {
      "cell_type": "markdown",
      "metadata": {
        "id": "9ngpqNFm8w1a"
      },
      "source": [
        "# Домашнє завдання до теми \"Основи роботи з рядками та математичні операції\""
      ]
    },
    {
      "cell_type": "markdown",
      "metadata": {
        "id": "DEkQSeSyTum-"
      },
      "source": [
        "1. Створіть змінні `a`, `b`, `c` та `d`, задайте їм значення відповідно 101, 210, 111, 402, та обчисліть з допомогою Python наступний вираз:  $$ \\frac{(a+b) * c}{d} $$\n",
        "\n",
        "**Важливо**: тут ми маємо обчислити значення саме з використанням змінних, а не просто чисел, як би ми робили у калькуряторі. Змінні потрібні аби за бажання ми могли змінити їх значення та не переписувати код обчислення виразу, бо він буде працювати для різних значень змінних."
      ]
    },
    {
      "cell_type": "code",
      "execution_count": 2,
      "metadata": {
        "id": "u1ICQq5L3eKH"
      },
      "outputs": [
        {
          "data": {
            "text/plain": [
              "85.8731343283582"
            ]
          },
          "execution_count": 2,
          "metadata": {},
          "output_type": "execute_result"
        }
      ],
      "source": [
        "a = 101\n",
        "b = 210\n",
        "c = 111\n",
        "d = 402\n",
        "\n",
        "((a + b) * c) / d"
      ]
    },
    {
      "cell_type": "markdown",
      "metadata": {
        "id": "FnBVPt7G3bcR"
      },
      "source": [
        "Очікувана відповідь: 85.8731343283582"
      ]
    },
    {
      "cell_type": "markdown",
      "metadata": {
        "id": "HI3eEYZRT4Cn"
      },
      "source": [
        "2. Якою буде остача від ділення числа 11283 на 89? Обчисліть з допомогою Python."
      ]
    },
    {
      "cell_type": "code",
      "execution_count": 3,
      "metadata": {
        "id": "ejZc3ng_TpgY"
      },
      "outputs": [
        {
          "data": {
            "text/plain": [
              "69"
            ]
          },
          "execution_count": 3,
          "metadata": {},
          "output_type": "execute_result"
        }
      ],
      "source": [
        "11283 % 89"
      ]
    },
    {
      "cell_type": "markdown",
      "metadata": {
        "id": "RO02CqdqT9oG"
      },
      "source": [
        "3. Скільки цілих разів поміститься число 89 в 11283? (Або що те саме: який буде результат цілочисельного ділення 11283 на 89?)"
      ]
    },
    {
      "cell_type": "code",
      "execution_count": 8,
      "metadata": {
        "id": "KEUb9lO5T_PI"
      },
      "outputs": [
        {
          "data": {
            "text/plain": [
              "1250"
            ]
          },
          "execution_count": 8,
          "metadata": {},
          "output_type": "execute_result"
        }
      ],
      "source": [
        "111283 // 89"
      ]
    },
    {
      "cell_type": "markdown",
      "metadata": {
        "id": "5fnIPumiT_rt"
      },
      "source": [
        "4. Запишіть у змінну `name` ваше імʼя."
      ]
    },
    {
      "cell_type": "markdown",
      "metadata": {
        "id": "fR9TqY79UNDL"
      },
      "source": [
        "5. Запишіть у змінну `surname` ваше прізвище."
      ]
    },
    {
      "cell_type": "markdown",
      "metadata": {
        "id": "zqKncQLwUOxh"
      },
      "source": [
        "6. Сконкатенуйте імʼя та прізвище в одну фразу через пробіл. Запишіть результат у нову змінну `name_surname` та виведіть результат на екран.  \n",
        "7. Зробіть усі літери змінної `name_surname` заглавними використовуючи метод рядків в Python:\n",
        "8. Виведіть третю літеру вашого `name_surname`. Тут уважно, треба саме третя літера. Згадайте, з якого значення починається індексування значень в Python.\n",
        "9. Виведіть першу та останню літеру вашого прізвища.\n",
        "10. Виведіть довжину вашого прізвища."
      ]
    },
    {
      "cell_type": "code",
      "execution_count": 16,
      "metadata": {
        "id": "8E-blvN-UTPg"
      },
      "outputs": [
        {
          "name": "stdout",
          "output_type": "stream",
          "text": [
            "Kateryna Mehezha\n",
            "KATERYNA MEHEZHA\n",
            "t\n",
            "M\n",
            "a\n",
            "7\n"
          ]
        }
      ],
      "source": [
        "name = 'Kateryna'\n",
        "surname = 'Mehezha'\n",
        "name_surname = name + ' ' + surname\n",
        "print(name_surname)\n",
        "print(name_surname.upper())\n",
        "print(name_surname[2])\n",
        "print(surname[0])\n",
        "print(surname[-1])\n",
        "print(len(surname))"
      ]
    },
    {
      "cell_type": "markdown",
      "metadata": {
        "id": "JN2wxSlGVVAj"
      },
      "source": [
        "11. Виведіть кількість літер `a` у столиці Мадагаскару `Antananarivo`. Важливо врахувати всі літери, як великі, так і маленькі."
      ]
    },
    {
      "cell_type": "code",
      "execution_count": 22,
      "metadata": {
        "id": "LCeHHz9bVUgL"
      },
      "outputs": [
        {
          "data": {
            "text/plain": [
              "4"
            ]
          },
          "execution_count": 22,
          "metadata": {},
          "output_type": "execute_result"
        }
      ],
      "source": [
        "capital_of_Madagaskar = 'Antananarivo'\n",
        "capital_of_Madagaskar.lower().count('a')"
      ]
    },
    {
      "cell_type": "markdown",
      "metadata": {
        "id": "Ux4SQiuSVo92"
      },
      "source": [
        "Очікувана відповідь: 4"
      ]
    },
    {
      "cell_type": "markdown",
      "metadata": {
        "id": "mwEs0xnmVtes"
      },
      "source": [
        "12. Створіть рядок `my_string` зі значенням: \"The quick brown fox jumps over the lazy dog!!!\".   \n",
        "Перевірте, чи починається рядок `my_string` з \"The\" і чи закінчується він \"dog!\". Виведіть результати на екран.\n",
        "13. Розділіть рядок `my_string` на список окремих слів, а потім з'єднайте всі слова через нижнє підкреслювання. Виведіть результат на екран."
      ]
    },
    {
      "cell_type": "code",
      "execution_count": 30,
      "metadata": {
        "id": "VlXDNpXcVs59"
      },
      "outputs": [
        {
          "name": "stdout",
          "output_type": "stream",
          "text": [
            "True\n",
            "False\n",
            "['The', 'quick', 'brown', 'fox', 'jumps', 'over', 'the', 'lazy', 'dog!!!']\n",
            "The_quick_brown_fox_jumps_over_the_lazy_dog!!!\n"
          ]
        }
      ],
      "source": [
        "my_string = 'The quick brown fox jumps over the lazy dog!!!'\n",
        "print(my_string.startswith('The'))\n",
        "print(my_string.endswith('dog!'))\n",
        "words_list = my_string.split()\n",
        "print(words_list)\n",
        "print('_'.join(words_list))\n"
      ]
    },
    {
      "cell_type": "markdown",
      "metadata": {
        "id": "UqvD1_jIXRhx"
      },
      "source": [
        "Очікуваний результат: `The_quick_brown_fox_jumps_over_the_lazy_dog!!!`"
      ]
    }
  ],
  "metadata": {
    "colab": {
      "provenance": []
    },
    "kernelspec": {
      "display_name": "Python 3",
      "name": "python3"
    },
    "language_info": {
      "codemirror_mode": {
        "name": "ipython",
        "version": 3
      },
      "file_extension": ".py",
      "mimetype": "text/x-python",
      "name": "python",
      "nbconvert_exporter": "python",
      "pygments_lexer": "ipython3",
      "version": "3.12.3"
    }
  },
  "nbformat": 4,
  "nbformat_minor": 0
}
