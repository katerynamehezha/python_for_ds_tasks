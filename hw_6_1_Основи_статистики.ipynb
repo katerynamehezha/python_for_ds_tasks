{
  "cells": [
    {
      "cell_type": "markdown",
      "metadata": {
        "id": "SDhaTqxcWhnP"
      },
      "source": [
        "В цьому домашньому завданні відпрацюємо з вами знання, отримані в модулі зі статистики.\n",
        "\n",
        "**Завдання 1.** Ми обговорили з Вами на лекції, що велика літера Сігма грецького алфавіту позначає в математиці суму. Знайдіть з використанням Python $\\Sigma x$, $\\Sigma x^2$, та $\\Sigma (x-1)^2$ для наступного набору даних:\n",
        "`1 3 4`\n",
        "Виведіть результат кожного обчислення на екран."
      ]
    },
    {
      "cell_type": "code",
      "execution_count": 1,
      "metadata": {
        "id": "B1mgx_IBT0e8"
      },
      "outputs": [
        {
          "name": "stdout",
          "output_type": "stream",
          "text": [
            "8\n",
            "26\n",
            "13\n"
          ]
        }
      ],
      "source": [
        "data = [1, 3, 4]\n",
        "sum_x = sum(data)\n",
        "print(sum_x)\n",
        "sum_x2 = sum(x**2 for x in data)\n",
        "print(sum_x2)\n",
        "sum_x_minus_1_2 = sum((x - 1)**2 for x in data)\n",
        "print(sum_x_minus_1_2)"
      ]
    },
    {
      "cell_type": "markdown",
      "metadata": {
        "id": "fa78aW5lhiia"
      },
      "source": [
        "**Завдання 2.** Ми зібрали дані про суму покупок в гривнях 20ма випадково обраними клієнтами в нашому магазині (всього клієнтів у нас більше) за минулий місяць. Вони представлені в змінній `sum_purchases`. Знайдіть **вибіркове середнє** для цих даних кожним з зазначених методів:   \n",
        "\n",
        "  2.1. без використання жодних бібліотек, користуючись тільки Python.  \n",
        "  2.2. використовуючи відповідний метод бібліотеки `numpy`.\n",
        "\n",
        "  Виведіть результат обчислень в кожному з випадків на екран та порівняйте результати. Вони співпадають?"
      ]
    },
    {
      "cell_type": "code",
      "execution_count": 2,
      "metadata": {
        "id": "_9kMt3rq6V5m"
      },
      "outputs": [],
      "source": [
        "sum_purchases = [ 316,  493,  367,  153,  224,  121,  322,  450,  196,  397,  281,\n",
        "  239,  484,  124,  223,  448,  432,  255, 4310, 3524]"
      ]
    },
    {
      "cell_type": "code",
      "execution_count": 3,
      "metadata": {
        "id": "wPmL919HT1c0"
      },
      "outputs": [
        {
          "name": "stdout",
          "output_type": "stream",
          "text": [
            "667.95\n",
            "667.95\n"
          ]
        }
      ],
      "source": [
        "import numpy as np\n",
        "mean_manual = sum(sum_purchases) / len(sum_purchases)\n",
        "print(mean_manual)\n",
        "\n",
        "mean_numpy = np.mean(sum_purchases)\n",
        "print(mean_numpy)"
      ]
    },
    {
      "cell_type": "markdown",
      "metadata": {
        "id": "FMdoxZd0kZdW"
      },
      "source": [
        "**Завдання 3.** Для того ж набору даних в змінній `sum_purchases` обчисліть **медіану** кожним з зазначених методів:  \n",
        "\n",
        "  3.1. без використання жодних бібліотек, користуючись тільки Python.  \n",
        "  3.2. використовуючи відповідний метод бібліотеки numpy.  \n",
        "\n",
        "Виведіть результат обчислень в кожному з випадків на екран. Порівняйте результати зі значенням вибіркового середнього. Напишіть коментар, для яких задач ви б використовували вибіркове середнє, а для яких - медіану?"
      ]
    },
    {
      "cell_type": "code",
      "execution_count": 5,
      "metadata": {
        "id": "x58BumvuT2nl"
      },
      "outputs": [
        {
          "name": "stdout",
          "output_type": "stream",
          "text": [
            "319.0\n",
            "319.0\n"
          ]
        }
      ],
      "source": [
        "sorted_purchases = sorted(sum_purchases) \n",
        "n = len(sorted_purchases)\n",
        "if n % 2 == 0:\n",
        "    median_manual = (sorted_purchases[n//2 - 1] + sorted_purchases[n//2]) / 2\n",
        "else: median_manual = sorted_purchases[n//2] \n",
        "print(median_manual)\n",
        "\n",
        "\n",
        "median_numpy = np.median(sum_purchases)\n",
        "print(median_numpy)"
      ]
    },
    {
      "cell_type": "markdown",
      "metadata": {
        "id": "o1Z7az2yNDQV"
      },
      "source": [
        "**Завдання 4**. Обчислість стандартне відхилення наведеної вибірки в змінній `sum_purchases` кожним з зазначених методів:  \n",
        "\n",
        "  4.1. без використання жодних бібліотек, користуючись тільки Python.  \n",
        "  4.2. використовуючи відповідний метод бібліотеки numpy.  \n",
        "\n",
        "Виведіть результат обчислень в кожному з випадків на екран."
      ]
    },
    {
      "cell_type": "code",
      "execution_count": 6,
      "metadata": {
        "id": "X4ixtmL2T642"
      },
      "outputs": [
        {
          "name": "stdout",
          "output_type": "stream",
          "text": [
            "1124.5433447451132\n",
            "1124.5433447451132\n"
          ]
        }
      ],
      "source": [
        "\n",
        "squared_diff = [(x - mean_manual) ** 2 for x in sum_purchases]\n",
        "variance = sum(squared_diff) / (len(sum_purchases) - 1)\n",
        "std_deviation = variance ** 0.5\n",
        "print(std_deviation)\n",
        "\n",
        "\n",
        "std_deviation_np = np.std(sum_purchases, ddof=1)\n",
        "print(std_deviation_np)"
      ]
    },
    {
      "cell_type": "markdown",
      "metadata": {
        "id": "M1ntKTjXLVlH"
      },
      "source": [
        "**Завдання 5**. Ми провели дослідження віку студентів-першокурсників. Виявилось, що\n",
        "- 10 студентів мають вік 16 років\n",
        "- 25 студентів - 17 років\n",
        "- 20 студентів - 18 років\n",
        "- 2 студенти - 20 років\n",
        "\n",
        "Обчислість середнє значення для цієї вибірки будь-яким способом - на чистому Python або з numpy - та виведіть результат на екран."
      ]
    },
    {
      "cell_type": "code",
      "execution_count": 8,
      "metadata": {
        "id": "RdIU4M-7T8R4"
      },
      "outputs": [
        {
          "name": "stdout",
          "output_type": "stream",
          "text": [
            "17.280701754385966\n"
          ]
        }
      ],
      "source": [
        "ages = np.array([16, 17, 18, 20])\n",
        "counts = np.array([10, 25, 20, 2])\n",
        "\n",
        "mean_age_np = np.average(ages, weights=counts)\n",
        "print(mean_age_np)"
      ]
    },
    {
      "cell_type": "markdown",
      "metadata": {
        "id": "Xx8MFkkVM53z"
      },
      "source": [
        "**Завдання 6**. Крім даних про суму покупок, ми зібрали ще дані про кількість відвідувань кожного з кожного покупця, які знаходяться в змінній `visits`. Обчисліть коефіцієнт кореляції Пірсона для суми покупок і кількості відвідувань кожним з зазначених методів:  \n",
        "\n",
        "  6.1. без використання жодних бібліотек, користуючись тільки Python.  \n",
        "  6.2. використовуючи відповідний метод бібліотеки numpy.  \n",
        "  \n",
        "Виведіть результат на екран. Проаналізуйте результат.\n",
        "\n",
        "Виведіть додатково графік розсіювання викликавши код нижче і зробіть заключення, чи варто щось змінити при підрахунку кореляції, аби коефіцієнт Пірсона показував коректну оцінку лінійної залежності?"
      ]
    },
    {
      "cell_type": "code",
      "execution_count": 10,
      "metadata": {
        "id": "4OIGBT7UOWhO"
      },
      "outputs": [],
      "source": [
        "visits = [ 6,  2, 10,  3,  9,  9,  2,  3,  6,  6, 10,  2,  5, 10,  3,  5,  4,\n",
        "        7,  4,  2]"
      ]
    },
    {
      "cell_type": "code",
      "execution_count": 12,
      "metadata": {
        "id": "YLNF7VbeT97Q"
      },
      "outputs": [
        {
          "name": "stdout",
          "output_type": "stream",
          "text": [
            "-0.30265844687666454\n",
            "-0.3026584468766646\n"
          ]
        }
      ],
      "source": [
        "mean_visits = sum(visits) / len(visits) \n",
        "mean_purchases = sum(sum_purchases) / len(sum_purchases)\n",
        "\n",
        "numerator = sum((x - mean_purchases) * (y - mean_visits) for x, y in zip(sum_purchases, visits))\n",
        "\n",
        "denom_purchases = sum((x - mean_purchases) ** 2 for x in sum_purchases)\n",
        "denom_visits = sum((y - mean_visits) ** 2 for y in visits)\n",
        "\n",
        "denominator = (denom_purchases * denom_visits) ** 0.5\n",
        "\n",
        "pearson_corr = numerator / denominator\n",
        "print(pearson_corr)\n",
        "\n",
        "pearson_corr_numpy = np.corrcoef(sum_purchases, visits)[0, 1]\n",
        "print(pearson_corr_numpy)\n"
      ]
    },
    {
      "cell_type": "code",
      "execution_count": 13,
      "metadata": {
        "colab": {
          "base_uri": "https://localhost:8080/",
          "height": 472
        },
        "id": "gaeoGA-5Prr1",
        "outputId": "0c910a7f-0e96-449a-881d-1efa453b3c8d"
      },
      "outputs": [
        {
          "data": {
            "image/png": "[encoded data removed]",
            "text/plain": [
              "<Figure size 640x480 with 1 Axes>"
            ]
          },
          "metadata": {},
          "output_type": "display_data"
        }
      ],
      "source": [
        "import matplotlib.pyplot as plt\n",
        "\n",
        "plt.scatter(sum_purchases, visits)\n",
        "plt.title('Scatter Plot of Purchases vs. Visits')\n",
        "plt.xlabel('Sum of Purchases')\n",
        "plt.ylabel('Number of Visits');"
      ]
    },
    {
      "cell_type": "markdown",
      "metadata": {},
      "source": [
        "Кореляція є слабкою і негативною.Кореляція близька до 0 зв'язок між сумою покупок і кількістю відвідуван дуже низький. Це означає, що, як правило, зі збільшенням кількості відвідувань сума покупок може дещо зменшуватися, проте цей зв'язок не є сильним"
      ]
    },
    {
      "cell_type": "markdown",
      "metadata": {
        "id": "4pEg0KzSQ6KA"
      },
      "source": [
        "**Завдання 7**. В попередньому завданні ми помітили, що викиди нам заважають отримати \"правдиве\" значення кореляції. Давайте вилучимо записи, які відповідають значенням з викидами в сумі покупок і обчисліть коеф. кореляції. Для цього поставте `threshold`, який дорінює середньому значенню + 2 стандартних вдіхилля суми покупок і всі значення, які більше за нього, будемо вважати викидами (є і інші правила для визначення викидів - з ним и познайомимось пізніше).\n",
        "\n",
        "Вилучіть значення з обох масивів і обчисліть коеф. кореляції Пірсона з допомогою `numpy` для кількості візитів і суми покупок без записів-викидів. Виведіть результат на екран, побудуйте діаграму розсіювання і проаналізуйте результат: що можемо сказати про залежність в даних?"
      ]
    },
    {
      "cell_type": "code",
      "execution_count": 18,
      "metadata": {
        "id": "Yj3Yfaf7UBbc"
      },
      "outputs": [
        {
          "name": "stdout",
          "output_type": "stream",
          "text": [
            "-0.3685212078127797\n"
          ]
        },
        {
          "data": {
            "image/png": "[encoded data removed]",
            "text/plain": [
              "<Figure size 640x480 with 1 Axes>"
            ]
          },
          "metadata": {},
          "output_type": "display_data"
        }
      ],
      "source": [
        "mean = np.mean(sum_purchases)\n",
        "std_dev = np.std(sum_purchases)\n",
        "\n",
        "threshold = mean + 2 * std_dev\n",
        "\n",
        "filtered_sum_purchases = [x for x in sum_purchases if x <= threshold]\n",
        "filtered_visits = [visits[i] for i in range(len(sum_purchases)) if sum_purchases[i] <= threshold]\n",
        "        \n",
        "correlation_coefficient = np.corrcoef(filtered_sum_purchases, filtered_visits)[0, 1]\n",
        "print(correlation_coefficient)\n",
        "\n",
        "\n",
        "plt.scatter(filtered_sum_purchases, filtered_visits)\n",
        "plt.title('Scatter Plot of Purchases vs. Visits (Without Outliers)')\n",
        "plt.xlabel('Sum of Purchases')\n",
        "plt.ylabel('Number of Visits')\n",
        "plt.show()"
      ]
    },
    {
      "cell_type": "markdown",
      "metadata": {},
      "source": [
        "Коли ми вилучили записи з викидами, ми отримали більш точну оцінку кореляції. Але бачимо що точки розкидані без чіткої структури, це може означати, що залежність не є лінійною. Зростання суми покупок не обов'язково пов'язане зі збільшенням кількості відвідувань."
      ]
    }
  ],
  "metadata": {
    "colab": {
      "provenance": []
    },
    "kernelspec": {
      "display_name": "Python 3",
      "name": "python3"
    },
    "language_info": {
      "codemirror_mode": {
        "name": "ipython",
        "version": 3
      },
      "file_extension": ".py",
      "mimetype": "text/x-python",
      "name": "python",
      "nbconvert_exporter": "python",
      "pygments_lexer": "ipython3",
      "version": "3.12.3"
    }
  },
  "nbformat": 4,
  "nbformat_minor": 0
}
