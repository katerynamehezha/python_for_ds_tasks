{
  "cells": [
    {
      "cell_type": "markdown",
      "metadata": {
        "id": "olyuwbpjrmvn"
      },
      "source": [
        "# Домашнє завдання до теми \"Основи роботи з даними у Pandas\""
      ]
    },
    {
      "cell_type": "markdown",
      "metadata": {
        "id": "vP2PEJyq8Yrj"
      },
      "source": [
        "В цьому домашньому завданні продовжуємо працювати з набором даних `supermarket_sales.csv`."
      ]
    },
    {
      "cell_type": "markdown",
      "metadata": {
        "id": "dh9lfpDb8gBL"
      },
      "source": [
        "0. Імпортуйте бібліотеку pandas та зчитайте дані у змінну `df` типу `pandas.DataFrame`."
      ]
    },
    {
      "cell_type": "code",
      "execution_count": 1,
      "metadata": {
        "id": "xBI9gJMK8qnl"
      },
      "outputs": [
        {
          "name": "stdout",
          "output_type": "stream",
          "text": [
            "<class 'pandas.core.frame.DataFrame'>\n"
          ]
        }
      ],
      "source": [
        "import pandas as pd \n",
        "df = pd.read_csv('/Users/kate/Desktop/data/supermarket_sales.csv')\n",
        "print(type(df))"
      ]
    },
    {
      "cell_type": "markdown",
      "metadata": {
        "ExecuteTime": {
          "end_time": "2021-09-20T19:44:56.499824Z",
          "start_time": "2021-09-20T19:44:56.496923Z"
        },
        "id": "ca064875"
      },
      "source": [
        "1. За допомогою бібліотеки Pandas виведіть перші 4 і останні 4 записи у наборі даних (це дві окремі команди). Треба саме 4! Не 5."
      ]
    },
    {
      "cell_type": "code",
      "execution_count": 3,
      "metadata": {
        "ExecuteTime": {
          "end_time": "2021-12-08T18:46:42.601691Z",
          "start_time": "2021-12-08T18:46:42.570962Z"
        },
        "id": "d095f26b"
      },
      "outputs": [
        {
          "name": "stdout",
          "output_type": "stream",
          "text": [
            "    Invoice ID Branch       City Customer type  Gender  \\\n",
            "0  750-67-8428      A     Yangon        Member  Female   \n",
            "1  226-31-3081      C  Naypyitaw        Normal  Female   \n",
            "2  631-41-3108      A     Yangon        Normal    Male   \n",
            "3  123-19-1176      A     Yangon        Member    Male   \n",
            "\n",
            "             Product line  Unit price  Quantity   Tax 5%     Total       Date  \\\n",
            "0       Health and beauty       74.69         7  26.1415  548.9715   1/5/2019   \n",
            "1  Electronic accessories       15.28         5   3.8200   80.2200   3/8/2019   \n",
            "2      Home and lifestyle       46.33         7  16.2155  340.5255   3/3/2019   \n",
            "3       Health and beauty       58.22         8  23.2880  489.0480  1/27/2019   \n",
            "\n",
            "    Time      Payment    cogs  gross margin percentage  gross income  Rating  \n",
            "0  13:08      Ewallet  522.83                 4.761905       26.1415     9.1  \n",
            "1  10:29         Cash   76.40                 4.761905        3.8200     9.6  \n",
            "2  13:23  Credit card  324.31                 4.761905       16.2155     7.4  \n",
            "3  20:33      Ewallet  465.76                 4.761905       23.2880     8.4  \n",
            "      Invoice ID Branch      City Customer type  Gender         Product line  \\\n",
            "996  303-96-2227      B  Mandalay        Normal  Female   Home and lifestyle   \n",
            "997  727-02-1313      A    Yangon        Member    Male   Food and beverages   \n",
            "998  347-56-2442      A    Yangon        Normal    Male   Home and lifestyle   \n",
            "999  849-09-3807      A    Yangon        Member  Female  Fashion accessories   \n",
            "\n",
            "     Unit price  Quantity  Tax 5%     Total       Date   Time  Payment  \\\n",
            "996       97.38        10  48.690  1022.490   3/2/2019  17:16  Ewallet   \n",
            "997       31.84         1   1.592    33.432   2/9/2019  13:22     Cash   \n",
            "998       65.82         1   3.291    69.111  2/22/2019  15:33     Cash   \n",
            "999       88.34         7  30.919   649.299  2/18/2019  13:28     Cash   \n",
            "\n",
            "       cogs  gross margin percentage  gross income  Rating  \n",
            "996  973.80                 4.761905        48.690     4.4  \n",
            "997   31.84                 4.761905         1.592     7.7  \n",
            "998   65.82                 4.761905         3.291     4.1  \n",
            "999  618.38                 4.761905        30.919     6.6  \n"
          ]
        }
      ],
      "source": [
        "print(df.head(4))\n",
        "print(df.tail(4))"
      ]
    },
    {
      "cell_type": "markdown",
      "metadata": {
        "ExecuteTime": {
          "end_time": "2022-11-01T16:50:46.961201Z",
          "start_time": "2022-11-01T16:50:46.955894Z"
        },
        "id": "3e4c4fb3"
      },
      "source": [
        "Очікуваний результат:"
      ]
    },
    {
      "cell_type": "markdown",
      "metadata": {
        "id": "f037ac2b"
      },
      "source": [
        "![](https://drive.google.com/uc?export=view&id=1F5XlzBOOTMsedpsYqz6NnXjIPTDe6jpx)"
      ]
    },
    {
      "cell_type": "markdown",
      "metadata": {
        "id": "167fuYhB_nCP"
      },
      "source": [
        "2. Виведіть рядки даних з індексами з 615 по 619 включно."
      ]
    },
    {
      "cell_type": "code",
      "execution_count": 4,
      "metadata": {
        "id": "ytZryG8Z_1f_"
      },
      "outputs": [
        {
          "name": "stdout",
          "output_type": "stream",
          "text": [
            "      Invoice ID Branch       City Customer type  Gender  \\\n",
            "615  509-29-3912      A     Yangon        Member  Female   \n",
            "616  327-40-9673      B   Mandalay        Member    Male   \n",
            "617  840-19-2096      C  Naypyitaw        Member    Male   \n",
            "618  828-46-6863      A     Yangon        Member    Male   \n",
            "619  641-96-3695      C  Naypyitaw        Member  Female   \n",
            "\n",
            "               Product line  Unit price  Quantity   Tax 5%     Total  \\\n",
            "615       Sports and travel       38.72         9  17.4240  365.9040   \n",
            "616       Sports and travel       72.60         6  21.7800  457.3800   \n",
            "617  Electronic accessories       87.91         5  21.9775  461.5275   \n",
            "618      Food and beverages       98.53         6  29.5590  620.7390   \n",
            "619     Fashion accessories       43.46         6  13.0380  273.7980   \n",
            "\n",
            "          Date   Time      Payment    cogs  gross margin percentage  \\\n",
            "615  3/20/2019  12:24      Ewallet  348.48                 4.761905   \n",
            "616  1/13/2019  19:51         Cash  435.60                 4.761905   \n",
            "617  3/14/2019  18:10      Ewallet  439.55                 4.761905   \n",
            "618  1/23/2019  11:22  Credit card  591.18                 4.761905   \n",
            "619   2/7/2019  17:55      Ewallet  260.76                 4.761905   \n",
            "\n",
            "     gross income  Rating  \n",
            "615       17.4240     4.2  \n",
            "616       21.7800     6.9  \n",
            "617       21.9775     4.4  \n",
            "618       29.5590     4.0  \n",
            "619       13.0380     8.5  \n"
          ]
        }
      ],
      "source": [
        "print(df[615:620])"
      ]
    },
    {
      "cell_type": "markdown",
      "metadata": {
        "id": "uMLwIMBlhAcY"
      },
      "source": [
        "Очікуваний результат:"
      ]
    },
    {
      "cell_type": "markdown",
      "metadata": {
        "id": "yxrvqGnNhCsX"
      },
      "source": [
        "![](https://drive.google.com/uc?export=view&id=1Otufe_TXRmjZxWigzBiVBLCAVUfEReXM)"
      ]
    },
    {
      "cell_type": "markdown",
      "metadata": {
        "id": "2d54e0e4"
      },
      "source": [
        "3. Виведіть назви колонок у наборі даних разом з їхніми типами. Це можна зробити кількома способами, важливо аби в результаті були назви колонок і відповідні їм типи."
      ]
    },
    {
      "cell_type": "code",
      "execution_count": 6,
      "metadata": {
        "ExecuteTime": {
          "end_time": "2021-12-08T18:46:42.609601Z",
          "start_time": "2021-12-08T18:46:42.604424Z"
        },
        "id": "513f5a99"
      },
      "outputs": [
        {
          "name": "stdout",
          "output_type": "stream",
          "text": [
            "Invoice ID                  object\n",
            "Branch                      object\n",
            "City                        object\n",
            "Customer type               object\n",
            "Gender                      object\n",
            "Product line                object\n",
            "Unit price                 float64\n",
            "Quantity                     int64\n",
            "Tax 5%                     float64\n",
            "Total                      float64\n",
            "Date                        object\n",
            "Time                        object\n",
            "Payment                     object\n",
            "cogs                       float64\n",
            "gross margin percentage    float64\n",
            "gross income               float64\n",
            "Rating                     float64\n",
            "dtype: object\n"
          ]
        }
      ],
      "source": [
        "print(df.dtypes)"
      ]
    },
    {
      "cell_type": "markdown",
      "metadata": {
        "ExecuteTime": {
          "end_time": "2022-11-01T16:50:46.961201Z",
          "start_time": "2022-11-01T16:50:46.955894Z"
        },
        "id": "3c380f93"
      },
      "source": [
        "Очікуваний результат (один з можливих форматів):"
      ]
    },
    {
      "cell_type": "markdown",
      "metadata": {
        "id": "28f7beff"
      },
      "source": [
        "![](https://drive.google.com/uc?export=view&id=1ASh6-S-_f3X9fTQAPIvnHMFZamTBjNkL)"
      ]
    },
    {
      "cell_type": "markdown",
      "metadata": {
        "id": "aX2LEmuG8xyA"
      },
      "source": [
        "4. Користуючись методом `DataFrame.describe()` виявіть 1, 25, 50, 75 і 99 персентилі колонки `gross income`. Знайдіть, яке значення відповідає 75отму персентилю цієї колонки і що це означає? Як би Ви його пояснили простими словами колегам? Відповідь напишіть текстом в окремій клітинці типу Markdown."
      ]
    },
    {
      "cell_type": "code",
      "execution_count": 7,
      "metadata": {
        "id": "Paso6rPV894s"
      },
      "outputs": [
        {
          "data": {
            "text/plain": [
              "count    1000.00\n",
              "mean       15.38\n",
              "std        11.71\n",
              "min         0.51\n",
              "1%          0.91\n",
              "25%         5.92\n",
              "50%        12.09\n",
              "75%        22.45\n",
              "99%        45.25\n",
              "max        49.65\n",
              "Name: gross income, dtype: float64"
            ]
          },
          "metadata": {},
          "output_type": "display_data"
        }
      ],
      "source": [
        "with pd.option_context('display.precision', 2):\n",
        "    display(df['gross income'].describe(percentiles=[0.01, 0.25, 0.5, 0.75, 0.99]))"
      ]
    },
    {
      "cell_type": "markdown",
      "metadata": {
        "id": "HX-oXoo4jCuE"
      },
      "source": [
        "Очікуваний результат:"
      ]
    },
    {
      "cell_type": "markdown",
      "metadata": {
        "id": "Qi9Qi8LhjFRw"
      },
      "source": [
        "75-й персентиль = 22.45. Тобто 75 % наших доходів  складають 22.45 або менше. Тільки 25% доходів перевищують це значення \n",
        "\n",
        "![](https://drive.google.com/uc?export=view&id=1bDa1YFUWDsPm78Lnpy2geQND8M1HEQiT)"
      ]
    },
    {
      "cell_type": "markdown",
      "metadata": {
        "id": "X2FWqJYr9Eul"
      },
      "source": [
        "5. Виведіть кількість інвойсів за кожним унікальним містом в наборі даних.\n",
        "\n",
        "  Підказка: інвойс - це один рядок в цьому наборі даних, ми можемо цим скористатись аби швидко отримати відповідь."
      ]
    },
    {
      "cell_type": "code",
      "execution_count": 9,
      "metadata": {
        "id": "StVtKfWY-13y"
      },
      "outputs": [
        {
          "name": "stdout",
          "output_type": "stream",
          "text": [
            "City\n",
            "Yangon       340\n",
            "Mandalay     332\n",
            "Naypyitaw    328\n",
            "Name: count, dtype: int64\n"
          ]
        }
      ],
      "source": [
        "print(df.City.value_counts())"
      ]
    },
    {
      "cell_type": "markdown",
      "metadata": {
        "id": "MxdJBddujhRx"
      },
      "source": [
        "Очікуваний результат:"
      ]
    },
    {
      "cell_type": "markdown",
      "metadata": {
        "id": "DGmeHKZYjoTp"
      },
      "source": [
        "![](https://drive.google.com/uc?export=view&id=1G8c6M875NOW7oU3OtZegTOnyD2y8lhAV)"
      ]
    },
    {
      "cell_type": "markdown",
      "metadata": {
        "id": "-k-yG_rR-3Og"
      },
      "source": [
        "6. Виведіть, який відсоток інвойсів припадає на кожне унікальне місто."
      ]
    },
    {
      "cell_type": "code",
      "execution_count": 10,
      "metadata": {
        "id": "_PBLxP7B_LdF"
      },
      "outputs": [
        {
          "name": "stdout",
          "output_type": "stream",
          "text": [
            "City\n",
            "Yangon       0.340\n",
            "Mandalay     0.332\n",
            "Naypyitaw    0.328\n",
            "Name: proportion, dtype: float64\n"
          ]
        }
      ],
      "source": [
        "print(df.City.value_counts(normalize=True))"
      ]
    },
    {
      "cell_type": "markdown",
      "metadata": {
        "id": "hk_BB1Uxj_G5"
      },
      "source": [
        "Очікуваний результат:"
      ]
    },
    {
      "cell_type": "markdown",
      "metadata": {
        "id": "vAQ3z60ukBVG"
      },
      "source": [
        "![](https://drive.google.com/uc?export=view&id=1yZZpWhL2y8DX9rSRioYCRh1VbJgcf3fY)"
      ]
    },
    {
      "cell_type": "markdown",
      "metadata": {
        "id": "RUkVnzp_B5uZ"
      },
      "source": [
        "7.1. \n",
        "Використовуючи фільтрацію даних, знайдіть середнє значення `gross income` для міст `Yangon` та `Mandalay`. В якому місті воно більше?\n",
        "7.2 Сформулюйте 3 гіпотези, чому в одному місті gross income вище, як можна дізнатись чи правдива ця гіпотеза з використанням даних (наявних і додаткових), та як висновки з цих гіпотез можна використати для прийняття рішень як підвищити прибуток в мережі супермаркетів. Відповідь напишіть текстом в окремій клітинці типу Markdown.\n",
        "\n",
        "Це завдання - на продуктове мислення. Якщо не знаєте, які гіпотези сформулювати - напишіть ті, які здаються вам зовсім примітивними. Важливо навчитись висловлювати свої гіпотези щодо даних, і з часом та досвідом вони будуть ставати щоразу глибше і точніше. Весь аналіз даних будується на тому, що ми перевіряємо певні гіпотези та робимо висновки і рекоемндації на основі своїх досліджень."
      ]
    },
    {
      "cell_type": "code",
      "execution_count": 13,
      "metadata": {
        "id": "8RwoGA7l_OhV"
      },
      "outputs": [
        {
          "name": "stdout",
          "output_type": "stream",
          "text": [
            "14.874001470588235\n",
            "15.232024096385542\n"
          ]
        }
      ],
      "source": [
        "yangon_data = df.query(\"City == 'Yangon'\")['gross income']\n",
        "mean_gross_income_yangon = yangon_data.sum() / yangon_data.count()\n",
        "print(mean_gross_income_yangon)\n",
        "\n",
        "mandalay_data = df.query(\"City == 'Mandalay'\")['gross income']\n",
        "mean_gross_income_mandalay = mandalay_data.sum() / mandalay_data.count()\n",
        "print(mean_gross_income_mandalay)\n"
      ]
    },
    {
      "cell_type": "markdown",
      "metadata": {
        "id": "iXq3ODp1khy1"
      },
      "source": [
        "Середнє значеняя gross income більше у місті Mandalay \n",
        "Гіпотези:\n",
        "- більша платеспроможність начелення і від цього більший чек ( можемо зібрати данні про середній дохід населння ). Якщо данні підтвердяться для підвищення прибутковості мережі додавати преміум сексенти продуктів які могли би зацікавити заможніх покупців \n",
        "\n",
        "- в одному місті продається більша кількість товарів чим в іншому (можемо зібрати данні про кількість проданних товарів(аналіз колонки Quantity)). Якщо данні підтвердяться для підвищення прибутковості мережі звернути увагу на маркетинг (проводити рекламні компанії та акційні пропозиції)\n",
        "\n",
        "- в одному місті є більш популярною якась певна продуктова ліня ( можемо проаналізувати розподіл продажів за продуктовими лініями у кожному місті ) Якщо данні підтвердяться можна розширити асортимент цієї продуктової лінії "
      ]
    },
    {
      "cell_type": "markdown",
      "metadata": {
        "id": "4lcu3YwqkkF8"
      },
      "source": [
        "Очікуваний результат:\n",
        "![](https://drive.google.com/uc?export=view&id=1JdXUmK46WcoXUJYP7NS2SJlr2XjBbpQ8)"
      ]
    },
    {
      "cell_type": "markdown",
      "metadata": {
        "id": "wNMcnnPQOrwb"
      },
      "source": [
        "8. Для продовження дослідження різниці у прибутках в магазинах давайте зʼясуємо, чи відрізняється маржа ('gross margin percentage') для різних інвойсів в магазині? Перевірте це програмно на даних виходячи з того функціоналу, який ми вже пройшли у лекціях.\n",
        "\n",
        "Дайте на основі отриманого результату відповідь: \"У всіх всіх інвойсах однакова маржа\" або \"Маржа відрізняється для різних інвойсів\"."
      ]
    },
    {
      "cell_type": "code",
      "execution_count": 48,
      "metadata": {
        "id": "mTWYzSVaPNsb"
      },
      "outputs": [
        {
          "name": "stdout",
          "output_type": "stream",
          "text": [
            "Статистичний опис маржі для Yangon:\n",
            "count    3.400000e+02\n",
            "mean     4.761905e+00\n",
            "std      8.120828e-15\n",
            "min      4.761905e+00\n",
            "25%      4.761905e+00\n",
            "50%      4.761905e+00\n",
            "75%      4.761905e+00\n",
            "max      4.761905e+00\n",
            "Name: gross margin percentage, dtype: float64\n",
            "\n",
            "Статистичний опис маржі для Mandalay:\n",
            "count    3.320000e+02\n",
            "mean     4.761905e+00\n",
            "std      7.633690e-15\n",
            "min      4.761905e+00\n",
            "25%      4.761905e+00\n",
            "50%      4.761905e+00\n",
            "75%      4.761905e+00\n",
            "max      4.761905e+00\n",
            "Name: gross margin percentage, dtype: float64\n"
          ]
        }
      ],
      "source": [
        "\n",
        "df_yangon = df[df['City'] == 'Yangon']\n",
        "df_yangon[['Invoice ID', 'gross margin percentage']]\n",
        "print('Статистичний опис маржі для Yangon:')\n",
        "print(df_yangon['gross margin percentage'].describe())\n",
        "\n",
        "\n",
        "df_mandalay = df[df['City'] == 'Mandalay']\n",
        "df_mandalay[['Invoice ID', 'gross margin percentage']]\n",
        "print('\\nСтатистичний опис маржі для Mandalay:')\n",
        "print(df_mandalay['gross margin percentage'].describe())"
      ]
    },
    {
      "cell_type": "markdown",
      "metadata": {
        "id": "YXlTdvOtnYPr"
      },
      "source": [
        "Очікуваний результат: відповідь щодо маржі в усіх інвойсах на основі отриманих результатів\n",
        "\n",
        "Можемо бачити що дані за статичним описом маржі у місті Yangon є трохи вищими. \n",
        "Це може вказувати на різні умови чи стратегії продажу в різних містах"
      ]
    },
    {
      "cell_type": "markdown",
      "metadata": {
        "id": "NF3oAHQOOSN5"
      },
      "source": [
        "9. Врахуовуючи висновок в попередньому завданні, дослідимо як продаються в цих містах різні категорії товарів. Виведіть відсотковий розпоіділ кількості інвойсів по категоріям товарів `Product line` в містах `Yangon` та `Mandalay`."
      ]
    },
    {
      "cell_type": "code",
      "execution_count": 56,
      "metadata": {
        "id": "nUgdZmbzQDo4"
      },
      "outputs": [
        {
          "name": "stdout",
          "output_type": "stream",
          "text": [
            "Product line\n",
            "Home and lifestyle        0.191176\n",
            "Electronic accessories    0.176471\n",
            "Sports and travel         0.173529\n",
            "Food and beverages        0.170588\n",
            "Fashion accessories       0.150000\n",
            "Health and beauty         0.138235\n",
            "Name: count, dtype: float64\n",
            "Product line\n",
            "Fashion accessories       0.186747\n",
            "Sports and travel         0.186747\n",
            "Electronic accessories    0.165663\n",
            "Health and beauty         0.159639\n",
            "Food and beverages        0.150602\n",
            "Home and lifestyle        0.150602\n",
            "Name: count, dtype: float64\n"
          ]
        }
      ],
      "source": [
        "yangon_counts = df_yangon['Product line'].value_counts()\n",
        "yangon_percent = (yangon_counts / yangon_counts.sum())\n",
        "print(yangon_percent)\n",
        "\n",
        "mandalay_counts = df_mandalay['Product line'].value_counts()\n",
        "mandalay_percent = (mandalay_counts / mandalay_counts.sum())\n",
        "print(mandalay_percent)\n"
      ]
    },
    {
      "cell_type": "markdown",
      "metadata": {
        "id": "vFhFKSl7meGY"
      },
      "source": [
        "Очікуваний результат для кожного з міст:"
      ]
    },
    {
      "cell_type": "markdown",
      "metadata": {
        "id": "pzpOAqu1miuo"
      },
      "source": [
        "![](https://drive.google.com/uc?export=view&id=1IbG58YK5KVqC-wCnllF1btgEgfWTbi_O)"
      ]
    },
    {
      "cell_type": "markdown",
      "metadata": {
        "id": "imwzMiV4mrXn"
      },
      "source": [
        "![](https://drive.google.com/uc?export=view&id=1aKOkLmlMq1sOh4GbwyaQyjfhNJzdU4Yh)"
      ]
    }
  ],
  "metadata": {
    "colab": {
      "provenance": []
    },
    "kernelspec": {
      "display_name": "Python 3",
      "name": "python3"
    },
    "language_info": {
      "codemirror_mode": {
        "name": "ipython",
        "version": 3
      },
      "file_extension": ".py",
      "mimetype": "text/x-python",
      "name": "python",
      "nbconvert_exporter": "python",
      "pygments_lexer": "ipython3",
      "version": "3.12.3"
    }
  },
  "nbformat": 4,
  "nbformat_minor": 0
}
