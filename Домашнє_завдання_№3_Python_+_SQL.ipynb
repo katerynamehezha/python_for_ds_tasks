{
  "cells": [
    {
      "cell_type": "markdown",
      "id": "2153041f",
      "metadata": {
        "id": "2153041f"
      },
      "source": [
        "# Завдання на використання SQL в Python"
      ]
    },
    {
      "cell_type": "markdown",
      "id": "2c1af6e1",
      "metadata": {
        "ExecuteTime": {
          "end_time": "2022-11-27T18:04:46.316592Z",
          "start_time": "2022-11-27T18:04:46.302021Z"
        },
        "id": "2c1af6e1"
      },
      "source": [
        "1.Встановіть бібліотеку `mysql-connector-python` через pip aбо через conda."
      ]
    },
    {
      "cell_type": "code",
      "execution_count": 16,
      "id": "a8fcd64e",
      "metadata": {
        "id": "a8fcd64e"
      },
      "outputs": [],
      "source": [
        "import mysql.connector\n",
        "from mysql.connector.connection import MySQLConnection\n",
        "import datetime"
      ]
    },
    {
      "cell_type": "markdown",
      "id": "eec5551e",
      "metadata": {
        "id": "eec5551e",
        "pycharm": {
          "name": "#%% md\n"
        }
      },
      "source": [
        "2.В змінній `con` створіть підключення до бази даних employees за аналогією того, як це робилось в лекції:"
      ]
    },
    {
      "cell_type": "code",
      "execution_count": 17,
      "id": "e3fff0d8",
      "metadata": {
        "id": "e3fff0d8"
      },
      "outputs": [],
      "source": [
        "con = mysql.connector.connect(user='user1', password='7oygWy6P',\n",
        "                              host='3.68.62.36',\n",
        "                              database='employees')"
      ]
    },
    {
      "cell_type": "markdown",
      "id": "8b17a588",
      "metadata": {
        "ExecuteTime": {
          "end_time": "2022-01-26T22:23:01.406330Z",
          "start_time": "2022-01-26T22:23:01.403942Z"
        },
        "id": "8b17a588",
        "pycharm": {
          "name": "#%% md\n"
        }
      },
      "source": [
        "3.Виберіть максимальну і мінімальну дати найму співробітників використовуючи `con.cursor()`. Аби отримати результати в кінці, виконайте `cursor.fetchall()`."
      ]
    },
    {
      "cell_type": "code",
      "execution_count": 18,
      "id": "2d9785de",
      "metadata": {
        "id": "2d9785de"
      },
      "outputs": [
        {
          "name": "stdout",
          "output_type": "stream",
          "text": [
            "[(datetime.date(2000, 1, 28), datetime.date(1985, 1, 1))]\n"
          ]
        },
        {
          "data": {
            "text/plain": [
              "True"
            ]
          },
          "execution_count": 18,
          "metadata": {},
          "output_type": "execute_result"
        }
      ],
      "source": [
        "cursor = con.cursor() \n",
        "\n",
        "sql = \"\"\"\n",
        "SELECT \n",
        "    MAX(hire_date) AS max_hire_date,\n",
        "    MIN(hire_date) AS min_hire_date\n",
        "FROM employees\n",
        "\"\"\"\n",
        "\n",
        "cursor.execute(sql)\n",
        "results = cursor.fetchall()\n",
        "print(results)\n",
        "cursor.close()\n"
      ]
    },
    {
      "cell_type": "markdown",
      "id": "955dd2fa",
      "metadata": {
        "ExecuteTime": {
          "end_time": "2022-11-27T18:11:33.491134Z",
          "start_time": "2022-11-27T18:11:33.486973Z"
        },
        "id": "955dd2fa"
      },
      "source": [
        "Очікуваний результат:  \n",
        "    `[(datetime.date(2000, 1, 28), datetime.date(1985, 1, 1))]`"
      ]
    },
    {
      "cell_type": "markdown",
      "id": "1d9c214d",
      "metadata": {
        "ExecuteTime": {
          "end_time": "2023-07-14T15:52:49.876166Z",
          "start_time": "2023-07-14T15:52:49.855548Z"
        },
        "id": "1d9c214d"
      },
      "source": [
        "4.Давайте зберемо інформацію про останню ЗП кожного співробіткника в базі. З використанням `con.cursor()` виберіть з таблиці `salaries` для кожного співробітника його номер, останню в базі даних (тобто ту, що відповідає найновішій `to_date`) ЗП, та значення `from_date`, `to_date` для цієї ЗП.\n",
        "\n",
        "Результати запишіть у pandas DataFrame, який збережіть у змінну `res`. Як взяти з курсора назви колонок - вже наведено. На екран виведіть назви колонок в змінній `res`, розмір цього датафрейму та перші 3 записи в ньому.\n",
        "\n",
        "УВАГА! Зверніть увагу, що ЗП може оновлюватись протягом одного дня, тобто є випадки, коли апдейт ЗП був в певний день, скажімо 2001-01-01 і потім стався ще один апдейт ЗП цьому співробітнику цього самого дня. Запит має це враховувати.\n",
        "Також, теоретично ЗП може бути зменшена. Тож, брати дату з максимальною ЗП буде неправильно з точки зору бізнес логіки. Треба саме останнє історичне значення ЗП кожного співробітника."
      ]
    },
    {
      "cell_type": "code",
      "execution_count": 19,
      "id": "f326ba43",
      "metadata": {
        "id": "f326ba43"
      },
      "outputs": [
        {
          "name": "stdout",
          "output_type": "stream",
          "text": [
            "Назви колонок: ['emp_no', 'salary', 'from_date', 'to_date']\n",
            "Розмір DataFrame: (300180, 4)\n",
            "Перші 3 записи:\n",
            "    emp_no  salary   from_date     to_date\n",
            "0   10001   88958  2002-06-22  9999-01-01\n",
            "1   10002   72527  2001-08-02  9999-01-01\n",
            "2   10003   43311  2001-12-01  9999-01-01\n"
          ]
        }
      ],
      "source": [
        "import pandas as pd\n",
        "\n",
        "\n",
        "cursor = con.cursor()\n",
        "sql = \"\"\"\n",
        "SELECT \n",
        "    emp_no,\n",
        "    salary,\n",
        "    from_date,\n",
        "    to_date\n",
        "FROM salaries s1\n",
        "WHERE to_date = (\n",
        "    SELECT MAX(to_date) \n",
        "    FROM salaries s2 \n",
        "    WHERE s1.emp_no = s2.emp_no\n",
        ")\n",
        "\"\"\"\n",
        "\n",
        "cursor.execute(sql)\n",
        "\n",
        "field_names = [i[0] for i in cursor.description]\n",
        "\n",
        "results = cursor.fetchall()\n",
        "\n",
        "res = pd.DataFrame(results, columns=field_names)\n",
        "print(\"Назви колонок:\", res.columns.tolist())\n",
        "print(\"Розмір DataFrame:\", res.shape)\n",
        "print(\"Перші 3 записи:\\n\", res.head(3))\n"
      ]
    },
    {
      "cell_type": "code",
      "execution_count": 20,
      "id": "bf5eb14d",
      "metadata": {
        "ExecuteTime": {
          "end_time": "2023-07-14T16:14:15.617144Z",
          "start_time": "2023-07-14T16:14:15.611369Z"
        },
        "id": "bf5eb14d"
      },
      "outputs": [],
      "source": [
        "field_names = [i[0] for i in cursor.description]"
      ]
    },
    {
      "cell_type": "markdown",
      "id": "fb5676cb",
      "metadata": {
        "id": "fb5676cb"
      },
      "source": [
        "Очікуваний результат:\n",
        "\n",
        "![](https://drive.google.com/uc?export=view&id=1lNvzbAebtkj3C2v-I5AE6HkMH8MTI1kA)"
      ]
    },
    {
      "cell_type": "markdown",
      "id": "e5770b56",
      "metadata": {
        "ExecuteTime": {
          "end_time": "2023-07-14T16:17:31.638485Z",
          "start_time": "2023-07-14T16:17:31.632827Z"
        },
        "id": "e5770b56"
      },
      "source": [
        "5.В утвореній вибірці в змінній `res` скільки значень `to_date` рівні `9999-01-01`, а скільки - ні? Увага! Для виконання цього завдання важливо розуміти, який тип даних у значень колонки `to_date`. Зʼясуйте це, і потім напишіть фільтр для виводу потрібного результату."
      ]
    },
    {
      "cell_type": "code",
      "execution_count": 59,
      "id": "8a9dc7e5",
      "metadata": {
        "id": "8a9dc7e5"
      },
      "outputs": [
        {
          "name": "stdout",
          "output_type": "stream",
          "text": [
            "Тип даних колонки to_date: datetime64[ns]\n",
            "Кількість значень to_date, що дорівнюють '9999-01-01': 0\n",
            "Кількість значень to_date, що не дорівнюють '9999-01-01': 300180\n"
          ]
        }
      ],
      "source": [
        "from datetime import date\n",
        "print(\"Тип даних колонки to_date:\", res['to_date'].dtype)\n",
        "\n",
        "# count_to_date_equal = (res['to_date'] == pd.Timestamp('9999-01-01')).sum()\n",
        "# count_to_date_not_equal = (res['to_date'] != pd.Timestamp('9999-01-01')).sum()\n",
        "\n",
        "count_to_date_equal = (res['to_date'] == date(9999, 1, 1)).sum()\n",
        "count_to_date_not_equal = (res['to_date'] != date(9999, 1, 1)).sum()\n",
        "\n",
        "print(f\"Кількість значень to_date, що дорівнюють '9999-01-01': {count_to_date_equal}\")\n",
        "print(f\"Кількість значень to_date, що не дорівнюють '9999-01-01': {count_to_date_not_equal}\")\n"
      ]
    },
    {
      "cell_type": "markdown",
      "id": "ae22c37a",
      "metadata": {
        "id": "ae22c37a"
      },
      "source": [
        "6.Виведіть візуально розподіл (гістограму) зарплат співробітників, які досі працюють в компанії, використовуючи результат попереднього завдання. Співробітниками, які досі працюють в компанії вважаємо тих, в кого to_date має значення 9999-01-01. Обовʼязково підпишіть графік і вісі.\n",
        "\n",
        "Ці три завдання - приклад, як нам може бути зручно витягнути дані з бази певним запитом, а потім використати витягнуту вибірку у Python для подальшого аналізу."
      ]
    },
    {
      "cell_type": "code",
      "execution_count": 46,
      "id": "ede9a748",
      "metadata": {
        "id": "ede9a748"
      },
      "outputs": [
        {
          "data": {
            "image/png": "[encoded data removed]",
            "text/plain": [
              "<Figure size 1000x600 with 1 Axes>"
            ]
          },
          "metadata": {},
          "output_type": "display_data"
        }
      ],
      "source": [
        "import matplotlib.pyplot as plt\n",
        "import pandas as pd\n",
        "\n",
        "active_employees = res[res['to_date'] == pd.Timestamp('9999-01-01')]\n",
        "\n",
        "plt.figure(figsize=(10, 6))\n",
        "plt.hist(active_employees['salary'], bins=30, edgecolor='black')\n",
        "plt.title('Розподіл зарплат співробітників, які досі працюють в компанії')\n",
        "plt.xlabel('Зарплата')\n",
        "plt.ylabel('Кількість співробітників')\n",
        "plt.grid(axis='y', alpha=0.75)\n",
        "plt.show()"
      ]
    },
    {
      "cell_type": "markdown",
      "id": "AL26SP3WMJiX",
      "metadata": {
        "id": "AL26SP3WMJiX"
      },
      "source": [
        "Очікуваний результат:\n",
        "\n",
        "![](https://drive.google.com/uc?export=view&id=1j8MHLC1E0revbQLM9B0UJs6tVEgoWhmK)"
      ]
    },
    {
      "cell_type": "markdown",
      "id": "Cp_JpGPpKmzp",
      "metadata": {
        "id": "Cp_JpGPpKmzp"
      },
      "source": [
        "НЕ ЗАБУВАЄМО ЗАКРИТИ ПІДКЛЮЧЕННЯ ДО БАЗИ :)"
      ]
    },
    {
      "cell_type": "code",
      "execution_count": null,
      "id": "WEMo9bl6KnMh",
      "metadata": {
        "id": "WEMo9bl6KnMh"
      },
      "outputs": [],
      "source": [
        "con.close()"
      ]
    }
  ],
  "metadata": {
    "colab": {
      "provenance": []
    },
    "kernelspec": {
      "display_name": "Python 3 (ipykernel)",
      "language": "python",
      "name": "python3"
    },
    "language_info": {
      "codemirror_mode": {
        "name": "ipython",
        "version": 3
      },
      "file_extension": ".py",
      "mimetype": "text/x-python",
      "name": "python",
      "nbconvert_exporter": "python",
      "pygments_lexer": "ipython3",
      "version": "3.12.3"
    },
    "toc": {
      "base_numbering": 1,
      "nav_menu": {},
      "number_sections": true,
      "sideBar": true,
      "skip_h1_title": false,
      "title_cell": "Table of Contents",
      "title_sidebar": "Contents",
      "toc_cell": false,
      "toc_position": {},
      "toc_section_display": true,
      "toc_window_display": false
    },
    "vscode": {
      "interpreter": {
        "hash": "a6511e6b41b26ba86cca7483749cf4dd15bf137a2672e550741a656e19bba82e"
      }
    }
  },
  "nbformat": 4,
  "nbformat_minor": 5
}
